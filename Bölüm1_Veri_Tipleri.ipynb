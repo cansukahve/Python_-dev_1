{
 "cells": [
  {
   "cell_type": "code",
   "execution_count": 2,
   "id": "f8822544-6ad4-4c13-bb06-fc358532264f",
   "metadata": {},
   "outputs": [
    {
     "name": "stdin",
     "output_type": "stream",
     "text": [
      "Adınızı Giriniz:  cansu\n",
      "Yaşınızı Giriniz:  22\n",
      "Boyunuzu Giriniz:  155\n"
     ]
    },
    {
     "name": "stdout",
     "output_type": "stream",
     "text": [
      "Merhaba,  cansu\n",
      "Yaşınız:  22 yaşında\n",
      "Boyunuz: 155.0 metre\n"
     ]
    }
   ],
   "source": [
    "# 1. Kullanıcıdan adını, yaşını ve boyunu (float) input() ile alınız. \n",
    "#Bu bilgileri uygun veri tiplerinde değişkenlerde saklayınız ve ekrana anlamlı bir şekilde yazdırınız.\n",
    "\n",
    "ad= input('Adınızı Giriniz: ')\n",
    "yas= int(input('Yaşınızı Giriniz: '))\n",
    "boy= float(input('Boyunuzu Giriniz: '))\n",
    "\n",
    "print('Merhaba, ', ad)\n",
    "print('Yaşınız: ', yas, 'yaşında')\n",
    "print(\"Boyunuz:\", boy, \"metre\")"
   ]
  },
  {
   "cell_type": "code",
   "execution_count": 4,
   "id": "c1c93352-c069-4f4c-aab6-b31dec4ddfc7",
   "metadata": {},
   "outputs": [
    {
     "name": "stdin",
     "output_type": "stream",
     "text": [
      "Matematik Notunuzu Giriniz:  55\n",
      "Fizik Notunuzu Giriniz:  90\n",
      "Kimya Notunuzu Giriniz:  25\n"
     ]
    },
    {
     "name": "stdout",
     "output_type": "stream",
     "text": [
      "Ortalamanız: 56.666666666666664\n"
     ]
    }
   ],
   "source": [
    "# 2. Bir öğrencinin notlarını (Matematik, Fizik, Kimya) int tipinde değişkenlere atayın. \n",
    "#Ortalamasını float tipinde hesaplayıp ekrana yazdırınız.\n",
    "\n",
    "matematik = int(input('Matematik Notunuzu Giriniz: ')) \n",
    "fizik = int(input('Fizik Notunuzu Giriniz: ')) \n",
    "kimya = int(input('Kimya Notunuzu Giriniz: ')) \n",
    "\n",
    "ortalama = (matematik + fizik + kimya)/3\n",
    "\n",
    "print(\"Ortalamanız:\", float(ortalama))"
   ]
  },
  {
   "cell_type": "code",
   "execution_count": 6,
   "id": "8e600cb7-ade6-4061-9b4c-5f33b6b113b3",
   "metadata": {},
   "outputs": [
    {
     "name": "stdout",
     "output_type": "stream",
     "text": [
      "İlk karakter: V\n",
      "Son karakter: ş\n",
      "Uzunluk: 19\n",
      "Ters çevrilmiş hali: şiriG enimiliB ireV\n"
     ]
    }
   ],
   "source": [
    "# 3. Bir string değişkeni tanımlayın. Bu stringin ilk ve son karakterini, uzunluğunu ve ters çevrilmiş halini ekrana yazdırınız.\n",
    "\n",
    "metin = 'Veri Bilimine Giriş'\n",
    "print(\"İlk karakter:\", metin[0])\n",
    "print(\"Son karakter:\", metin[-1])\n",
    "print(\"Uzunluk:\", len(metin))\n",
    "print(\"Ters çevrilmiş hali:\", metin[::-1])"
   ]
  }
 ],
 "metadata": {
  "kernelspec": {
   "display_name": "Python [conda env:base] *",
   "language": "python",
   "name": "conda-base-py"
  },
  "language_info": {
   "codemirror_mode": {
    "name": "ipython",
    "version": 3
   },
   "file_extension": ".py",
   "mimetype": "text/x-python",
   "name": "python",
   "nbconvert_exporter": "python",
   "pygments_lexer": "ipython3",
   "version": "3.12.3"
  }
 },
 "nbformat": 4,
 "nbformat_minor": 5
}
