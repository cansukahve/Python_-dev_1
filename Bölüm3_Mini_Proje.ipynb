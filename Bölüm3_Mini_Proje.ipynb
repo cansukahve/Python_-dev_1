{
 "cells": [
  {
   "cell_type": "code",
   "execution_count": 4,
   "id": "a62a471d-89bf-499a-b05a-fc15273f16d5",
   "metadata": {},
   "outputs": [
    {
     "name": "stdin",
     "output_type": "stream",
     "text": [
      "1. Ürünün Fiyatını Giriniz:  120\n",
      "2. Ürünün Fiyatını Giriniz:  250\n",
      "3. Ürünün Fiyatını Giriniz:  140\n"
     ]
    },
    {
     "name": "stdout",
     "output_type": "stream",
     "text": [
      "İndirim Uygulandı! \n",
      "Ödenecek tutar: 459.0 TL\n"
     ]
    }
   ],
   "source": [
    "#9. Küçük bir alışveriş sepeti uygulaması yapınız:\n",
    "#- Kullanıcıdan 3 ürünün fiyatını alınız.\n",
    "#- Toplam fiyatı hesaplayınız.\n",
    "#- Eğer toplam fiyat 200 TL’den fazlaysa %10 indirim uygulayınız.\n",
    "#- Son fiyatı ekrana yazdırınız.\n",
    "\n",
    "urun1 = float(input(\"1. Ürünün Fiyatını Giriniz: \"))\n",
    "urun2 = float(input(\"2. Ürünün Fiyatını Giriniz: \"))\n",
    "urun3 = float(input(\"3. Ürünün Fiyatını Giriniz: \"))\n",
    "\n",
    "toplam = urun1 + urun2 + urun3\n",
    "\n",
    "if toplam > 200:\n",
    "    toplam -= toplam * 0.10  # %10 indirim\n",
    "    print(\"İndirim Uygulandı! \")\n",
    "print(\"Ödenecek tutar:\", toplam, \"TL\")"
   ]
  },
  {
   "cell_type": "code",
   "execution_count": 16,
   "id": "a2a2e87a-cb1f-4476-b9ba-0bd49550ec7a",
   "metadata": {},
   "outputs": [
    {
     "name": "stdin",
     "output_type": "stream",
     "text": [
      "Doğum Yılınızı Giriniz:  2002\n"
     ]
    },
    {
     "name": "stdout",
     "output_type": "stream",
     "text": [
      "Yetişkinsiniz\n"
     ]
    }
   ],
   "source": [
    "#10. Kullanıcıdan doğum yılını alınız. Bu yıl ile güncel yılı kullanarak yaşını hesaplayınız. Yaşına göre şu mesajlardan birini veriniz:\n",
    "#- 0-12: 'Çocuksunuz'\n",
    "#- 13-17: 'Ergensiniz'\n",
    "#- 18 ve üzeri: 'Yetişkinsiniz'\n",
    "\n",
    "dogum_yili = int(input(\"Doğum Yılınızı Giriniz: \"))\n",
    "guncel_yil = 2025\n",
    "\n",
    "yas = guncel_yil - dogum_yili\n",
    "\n",
    "if 0 <= yas <= 12:\n",
    "    print(\"Çocuksunuz\")\n",
    "elif 13 <= yas <= 17:\n",
    "    print(\"Ergensiniz\")\n",
    "else:\n",
    "    print(\"Yetişkinsiniz\")\n"
   ]
  }
 ],
 "metadata": {
  "kernelspec": {
   "display_name": "Python [conda env:base] *",
   "language": "python",
   "name": "conda-base-py"
  },
  "language_info": {
   "codemirror_mode": {
    "name": "ipython",
    "version": 3
   },
   "file_extension": ".py",
   "mimetype": "text/x-python",
   "name": "python",
   "nbconvert_exporter": "python",
   "pygments_lexer": "ipython3",
   "version": "3.12.3"
  }
 },
 "nbformat": 4,
 "nbformat_minor": 5
}
