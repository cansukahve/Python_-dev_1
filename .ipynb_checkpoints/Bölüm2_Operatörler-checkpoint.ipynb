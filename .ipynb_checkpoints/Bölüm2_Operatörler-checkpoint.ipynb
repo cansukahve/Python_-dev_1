{
 "cells": [
  {
   "cell_type": "code",
   "execution_count": 6,
   "id": "7fe398bb-1854-4e79-ac75-83fcb3acecb1",
   "metadata": {},
   "outputs": [
    {
     "name": "stdin",
     "output_type": "stream",
     "text": [
      "1. Sayıyı Giriniz:  36\n",
      "2. Sayıyı Giriniz:  12\n"
     ]
    },
    {
     "name": "stdout",
     "output_type": "stream",
     "text": [
      "Sayıların Toplamı:  48\n",
      "Sayıların Farkı:  24\n",
      "Sayıların Çarpımı:  432\n",
      "Sayıların Bölümü:  3.0\n",
      "Sayıların Modu:  0\n"
     ]
    }
   ],
   "source": [
    "#4. Kullanıcıdan iki sayı alınız. Bu sayılar üzerinde toplama, çıkarma, çarpma, bölme ve mod işlemleri yapınız.\n",
    "\n",
    "sayi1 = int(input(\"1. Sayıyı Giriniz: \"))\n",
    "sayi2 = int(input(\"2. Sayıyı Giriniz: \"))\n",
    "\n",
    "toplam = (sayi1 + sayi2)\n",
    "cikarma = (sayi1 - sayi2)\n",
    "carpma = (sayi1 * sayi2)\n",
    "bolme = (sayi1 / sayi2)\n",
    "mod = (sayi1 % sayi2)\n",
    "\n",
    "print(\"Sayıların Toplamı: \" , toplam)\n",
    "print(\"Sayıların Farkı: \" , cıkarma)\n",
    "print(\"Sayıların Çarpımı: \" , carpma)\n",
    "print(\"Sayıların Bölümü: \" , bolme)\n",
    "print(\"Sayıların Modu: \" , mod)"
   ]
  },
  {
   "cell_type": "code",
   "execution_count": 12,
   "id": "e0420162-6d71-4b0b-a33f-85959d487310",
   "metadata": {},
   "outputs": [
    {
     "name": "stdin",
     "output_type": "stream",
     "text": [
      "Ortalamanızı Giriniz:  85\n"
     ]
    },
    {
     "name": "stdout",
     "output_type": "stream",
     "text": [
      "Geçti\n"
     ]
    }
   ],
   "source": [
    "#5. Bir öğrencinin ortalaması 50’den büyükse 'Geçti', değilse 'Kaldı' çıktısını veren bir program yazınız. \n",
    "#(Karşılaştırma ve mantıksal operatörler kullanılacak.)\n",
    "\n",
    "ortalama = float(input(\"Ortalamanızı Giriniz: \")) \n",
    "\n",
    "if ortalama < 50:\n",
    "    print(\"Kaldı\")\n",
    "else:\n",
    "    print(\"Geçti\")\n"
   ]
  },
  {
   "cell_type": "code",
   "execution_count": 18,
   "id": "37c67496-d32c-43b3-9b88-0b1dd738c007",
   "metadata": {},
   "outputs": [
    {
     "name": "stdin",
     "output_type": "stream",
     "text": [
      "Yaşınızı Giriniz:  18\n"
     ]
    },
    {
     "name": "stdout",
     "output_type": "stream",
     "text": [
      "Ehliyet Alabilirsiniz.\n"
     ]
    }
   ],
   "source": [
    "#6. Kullanıcıdan yaşını alınız. Eğer yaş 18’den büyükse 'Ehliyet alabilirsiniz', değilse 'Ehliyet alamazsınız' çıktısı veriniz.\n",
    "\n",
    "yas = int(input(\"Yaşınızı Giriniz: \"))\n",
    "\n",
    "if yas >=  18:\n",
    "    print(\"Ehliyet Alabilirsiniz.\")\n",
    "else:\n",
    "    print(\"Ehliyet Alamazsınız.\")"
   ]
  },
  {
   "cell_type": "code",
   "execution_count": 22,
   "id": "611a955b-8354-4409-a67a-ffc9b1864e12",
   "metadata": {},
   "outputs": [
    {
     "name": "stdin",
     "output_type": "stream",
     "text": [
      "Ürün fiyatını giriniz:  150\n",
      "İndirim oranını giriniz (%):  25\n"
     ]
    },
    {
     "name": "stdout",
     "output_type": "stream",
     "text": [
      "İndirimli fiyat: 112.5 TL\n"
     ]
    }
   ],
   "source": [
    "#7. Bir ürünün fiyatını (float) ve indirim oranını (yüzde) alınız. İndirimli fiyatı hesaplayıp ekrana yazdırınız. (Aritmetik operatörler kullanılacak.)\n",
    "\n",
    "fiyat = float(input(\"Ürün fiyatını giriniz: \"))\n",
    "indirim = float(input(\"İndirim oranını giriniz (%): \"))\n",
    "\n",
    "indirimli_fiyat = fiyat - (fiyat * indirim / 100)\n",
    "print(\"İndirimli fiyat:\", indirimli_fiyat, \"TL\")\n"
   ]
  },
  {
   "cell_type": "code",
   "execution_count": 24,
   "id": "864a080a-72bc-4f4f-bea6-47e3d0033a68",
   "metadata": {},
   "outputs": [
    {
     "name": "stdout",
     "output_type": "stream",
     "text": [
      "a and b: False\n",
      "a or b: True\n",
      "not a: False\n"
     ]
    }
   ],
   "source": [
    "#8. True ve False değerlerini içeren değişkenlerle mantıksal operatörleri (and, or, not) uygulayarak örnekler yapınız ve sonuçlarını ekrana yazdırınız.\n",
    "\n",
    "a = True\n",
    "b = False\n",
    "\n",
    "print(\"a and b:\", a and b)\n",
    "print(\"a or b:\", a or b)\n",
    "print(\"not a:\", not a)\n"
   ]
  }
 ],
 "metadata": {
  "kernelspec": {
   "display_name": "Python [conda env:base] *",
   "language": "python",
   "name": "conda-base-py"
  },
  "language_info": {
   "codemirror_mode": {
    "name": "ipython",
    "version": 3
   },
   "file_extension": ".py",
   "mimetype": "text/x-python",
   "name": "python",
   "nbconvert_exporter": "python",
   "pygments_lexer": "ipython3",
   "version": "3.12.3"
  }
 },
 "nbformat": 4,
 "nbformat_minor": 5
}
